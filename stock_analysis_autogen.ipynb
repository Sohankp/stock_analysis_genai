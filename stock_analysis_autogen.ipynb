{
  "cells": [
    {
      "cell_type": "code",
      "source": [
        "!pip install nsepython"
      ],
      "metadata": {
        "colab": {
          "base_uri": "https://localhost:8080/"
        },
        "id": "2AnPhMHFq0eF",
        "outputId": "f66bb742-aeb1-4894-9cdf-9f8d84c208df"
      },
      "execution_count": null,
      "outputs": [
        {
          "output_type": "stream",
          "name": "stdout",
          "text": [
            "Collecting nsepython\n",
            "  Downloading nsepython-2.94-py3-none-any.whl.metadata (7.4 kB)\n",
            "Requirement already satisfied: requests in /usr/local/lib/python3.10/dist-packages (from nsepython) (2.32.3)\n",
            "Requirement already satisfied: pandas in /usr/local/lib/python3.10/dist-packages (from nsepython) (2.2.2)\n",
            "Requirement already satisfied: scipy in /usr/local/lib/python3.10/dist-packages (from nsepython) (1.13.1)\n",
            "Requirement already satisfied: numpy>=1.22.4 in /usr/local/lib/python3.10/dist-packages (from pandas->nsepython) (1.26.4)\n",
            "Requirement already satisfied: python-dateutil>=2.8.2 in /usr/local/lib/python3.10/dist-packages (from pandas->nsepython) (2.8.2)\n",
            "Requirement already satisfied: pytz>=2020.1 in /usr/local/lib/python3.10/dist-packages (from pandas->nsepython) (2024.2)\n",
            "Requirement already satisfied: tzdata>=2022.7 in /usr/local/lib/python3.10/dist-packages (from pandas->nsepython) (2024.2)\n",
            "Requirement already satisfied: charset-normalizer<4,>=2 in /usr/local/lib/python3.10/dist-packages (from requests->nsepython) (3.4.0)\n",
            "Requirement already satisfied: idna<4,>=2.5 in /usr/local/lib/python3.10/dist-packages (from requests->nsepython) (3.10)\n",
            "Requirement already satisfied: urllib3<3,>=1.21.1 in /usr/local/lib/python3.10/dist-packages (from requests->nsepython) (2.2.3)\n",
            "Requirement already satisfied: certifi>=2017.4.17 in /usr/local/lib/python3.10/dist-packages (from requests->nsepython) (2024.12.14)\n",
            "Requirement already satisfied: six>=1.5 in /usr/local/lib/python3.10/dist-packages (from python-dateutil>=2.8.2->pandas->nsepython) (1.17.0)\n",
            "Downloading nsepython-2.94-py3-none-any.whl (25 kB)\n",
            "Installing collected packages: nsepython\n",
            "Successfully installed nsepython-2.94\n"
          ]
        }
      ]
    },
    {
      "cell_type": "code",
      "execution_count": null,
      "metadata": {
        "id": "acoN8QyKmson"
      },
      "outputs": [],
      "source": [
        "from nsepython import *  # or the specific import: from nsepython import nse_past_results\n",
        "import pandas as pd\n",
        "from datetime import datetime\n",
        "from IPython import get_ipython\n",
        "from IPython.display import display"
      ]
    },
    {
      "cell_type": "code",
      "execution_count": null,
      "metadata": {
        "id": "5y2jpKnJmsop"
      },
      "outputs": [],
      "source": [
        "###Tool to fetch current price of a stock##############\n",
        "def get_current_price(stock_symbol:str, series:str):\n",
        "    current_date = datetime.now().strftime(\"%d-%m-%Y\")\n",
        "    result=equity_history(stock_symbol,series,start_date=current_date,end_date=current_date)\n",
        "    result.drop(columns=['_id','CH_MARKET_TYPE','CH_SERIES','TIMESTAMP','CH_TOTAL_TRADES','CH_ISIN','createdAt','updatedAt','SLBMH_TOT_VAL','VWAP','mTIMESTAMP','__v'])\n",
        "    result = result.to_json(orient='records')\n",
        "\n",
        "    return result"
      ]
    },
    {
      "cell_type": "code",
      "source": [
        "type(get_current_price(\"RELIANCE\", \"EQ\"))\n"
      ],
      "metadata": {
        "colab": {
          "base_uri": "https://localhost:8080/"
        },
        "id": "QAFI9sptoDWq",
        "outputId": "43e494fb-3550-4a87-d80c-7a5c9c528ca3"
      },
      "execution_count": null,
      "outputs": [
        {
          "output_type": "execute_result",
          "data": {
            "text/plain": [
              "str"
            ]
          },
          "metadata": {},
          "execution_count": 24
        }
      ]
    },
    {
      "cell_type": "code",
      "execution_count": null,
      "metadata": {
        "id": "jpUtHuv_msoq"
      },
      "outputs": [],
      "source": [
        "####function to replace col names with proper descriptions#############\n",
        "key_mapping = {\n",
        "    're_to_dt': 'End Date of Reporting Period',\n",
        "    're_from_dt': 'Start Date of Reporting Period',\n",
        "    're_create_dt': 'Date of Result Reporting/Publication',\n",
        "    're_res_type': 'Type of Result',\n",
        "    're_excepn_items_new': 'Exceptional Items During Reporting Period',\n",
        "    're_desc_note_seg': 'Segment-Specific Notes/Comments',\n",
        "    're_staff_cost': 'Employee/Staff-Related Expenses',\n",
        "    're_tot_exp_exc_pro_cont': 'Total Expenses Excluding Provisions/Contingencies',\n",
        "    're_grs_npa': 'Gross Non-Performing Assets (NPA)',\n",
        "    're_int_expd': 'Interest Expenditure',\n",
        "    're_con_pro_loss': 'Consolidated Profit/Loss for the Period',\n",
        "    're_net_sale': 'Net Sales Revenue',\n",
        "    're_oth_exp': 'Other Expenses',\n",
        "    're_rawmat_consump': 'Raw Material Consumption',\n",
        "    're_diluted_eps': 'Diluted Earnings Per Share (EPS)',\n",
        "    're_inc_dre_sttr': 'Incremental Deferred Tax Asset/Liability',\n",
        "    're_pur_trd_goods': 'Purchases of Traded Goods',\n",
        "    're_face_val': 'Face Value of Equity Shares',\n",
        "    're_income_inv': 'Income from Investments',\n",
        "    're_deff_tax': 'Deferred Tax',\n",
        "    're_share_associate': 'Share of Profit/Loss from Associates',\n",
        "    're_ret_asset': 'Return on Assets/Retired Assets',\n",
        "    're_proloss_ord_act': 'Profit/Loss from Ordinary Activities',\n",
        "    're_notes_to_ac': 'Notes Accompanying Accounts',\n",
        "    're_grs_npa_per': 'Percentage of Gross NPAs',\n",
        "    're_excepn_items': 'Exceptional Items',\n",
        "    're_int_new': 'New Interest Income/Expenditure',\n",
        "    're_pro_los_frm_dis_opr': 'Profit/Loss from Discontinued Operations',\n",
        "    're_goi_per_shhd': 'Government Shareholding Percentage',\n",
        "    're_basic_eps_for_cont_dic_opr': 'Basic Earnings Per Share (EPS) for Continuing/Discontinued Operations',\n",
        "    're_oth_oper_exp': 'Other Operating Expenses',\n",
        "    're_remarks': 'General Remarks/Notes',\n",
        "    're_seg_remarks': 'Segment-Wise Remarks',\n",
        "    're_dilut_eps_for_cont_dic_opr': 'Diluted EPS for Continuing/Discontinued Operations',\n",
        "    're_desc_note_fin': 'Notes/Descriptions About Financial Data',\n",
        "    're_per_grs_npa': 'Percentage of Gross NPAs',\n",
        "    're_pro_loss_bef_tax': 'Profit/Loss Before Tax',\n",
        "    're_res_reval': 'Revaluation of Reserves',\n",
        "    're_int_ser_cov': 'Interest Service Coverage Ratio',\n",
        "    're_cap_ade_rat': 'Capital Adequacy Ratio',\n",
        "    're_debt_eqt_rat': 'Debt-Equity Ratio',\n",
        "    're_curr_tax': 'Current Tax Liabilities',\n",
        "    're_net_profit': 'Net Profit for the Period',\n",
        "    're_total_inc': 'Total Income',\n",
        "    're_oth_inc_new': 'Other New Income Sources',\n",
        "    're_oth_tot_exp': 'Total of Other Expenses',\n",
        "    're_seq_num': 'Sequence Number (Internal Identifier)'\n",
        "}\n",
        "def replace_keys(data, mapping):\n",
        "    updated_data = []\n",
        "    for obj in data:\n",
        "        new_obj = {mapping.get(key, key): value for key, value in obj.items() if key in mapping}\n",
        "        updated_data.append(new_obj)\n",
        "    return updated_data\n"
      ]
    },
    {
      "cell_type": "code",
      "execution_count": null,
      "metadata": {
        "id": "r2nrY4Ckmsor"
      },
      "outputs": [],
      "source": [
        "#########Tool to get financial reports of a company #################\n",
        "def get_financials(stock_symbol:str):\n",
        "    fin_res = nse_past_results(stock_symbol)\n",
        "    res= replace_keys(fin_res['resCmpData'],key_mapping)\n",
        "    return res"
      ]
    },
    {
      "cell_type": "code",
      "source": [
        "type(get_financials(\"RELIANCE\"))"
      ],
      "metadata": {
        "colab": {
          "base_uri": "https://localhost:8080/"
        },
        "id": "-V_Rf5i5nEpZ",
        "outputId": "cd6b1de6-b974-4bc2-94b5-7c63fa1a1b2f"
      },
      "execution_count": null,
      "outputs": [
        {
          "output_type": "execute_result",
          "data": {
            "text/plain": [
              "list"
            ]
          },
          "metadata": {},
          "execution_count": 26
        }
      ]
    },
    {
      "cell_type": "code",
      "execution_count": null,
      "metadata": {
        "id": "yE8nsiIMmsos"
      },
      "outputs": [],
      "source": [
        "########Tool to get Latest news of a company##################\n",
        "from bs4 import BeautifulSoup, Comment\n",
        "\n",
        "def get_recent_stock_news(stock_name:str, num_news:int):\n",
        "    # Format the stock name for the search URL (replace spaces with hyphens)\n",
        "    stock_name_formatted = stock_name.replace(\" \", \"-\")\n",
        "    url = f\"https://www.moneycontrol.com/news/tags/{stock_name_formatted}.html\"\n",
        "\n",
        "    try:\n",
        "        # Send an HTTP request to fetch the webpage\n",
        "        response = requests.get(url)\n",
        "        response.raise_for_status()  # Check for HTTP errors\n",
        "\n",
        "        # Parse the HTML content\n",
        "        soup = BeautifulSoup(response.text, 'html.parser')\n",
        "\n",
        "        # Find the news items (update selector based on website structure)\n",
        "        news_items = soup.find_all('li', class_='clearfix', limit=num_news)\n",
        "        final_news =[]\n",
        "\n",
        "        if news_items:\n",
        "            news_list = []\n",
        "            for news in news_items:\n",
        "                headline = news.find('h2').text.strip() if news.find('h2') else 'No headline found'\n",
        "                link = news.find('a')['href'] if news.find('a') else 'No link available'\n",
        "\n",
        "                # Extract date from comments\n",
        "                date_comment = news.find(string=lambda text: isinstance(text, Comment))\n",
        "                date_text = date_comment.strip() if date_comment else 'No date available'\n",
        "\n",
        "                news_list.append({\"headline\": headline, \"link\": link, \"date\": date_text})\n",
        "\n",
        "            for idx, news in enumerate(news_list, start=1):\n",
        "                news_item = {}\n",
        "                news_item['headline'] = news['headline']\n",
        "                news_item['Date'] = news['date']\n",
        "                final_news.append(news_item)\n",
        "\n",
        "\n",
        "            return final_news\n",
        "        else:\n",
        "            return {\"error\": \"No news found for the stock.\"}\n",
        "\n",
        "    except requests.exceptions.RequestException as e:\n",
        "        return {\"error\": f\"Request failed: {e}\"}"
      ]
    },
    {
      "cell_type": "code",
      "source": [
        "type(get_recent_stock_news(\"RELIANCE\",3))"
      ],
      "metadata": {
        "colab": {
          "base_uri": "https://localhost:8080/"
        },
        "id": "yluBt_E7nTc0",
        "outputId": "6867e430-b6b4-4127-fe1d-795c7e85c912"
      },
      "execution_count": null,
      "outputs": [
        {
          "output_type": "execute_result",
          "data": {
            "text/plain": [
              "list"
            ]
          },
          "metadata": {},
          "execution_count": 16
        }
      ]
    },
    {
      "cell_type": "code",
      "source": [
        "market_research_agent_prompt = f\"\"\"You are an agent responsible for fetching the market research of the sector for a given company\"\"\""
      ],
      "metadata": {
        "id": "_Lkm1CYw0oen"
      },
      "execution_count": null,
      "outputs": []
    },
    {
      "cell_type": "code",
      "source": [
        "########Tool to get market research of a company##################\n",
        "\n",
        "from openai import OpenAI\n",
        "\n",
        "client = OpenAI(api_key=\"ADD_YOUR_KEY\")\n",
        "\n",
        "def get_market_research_report(stock_symbol:str):\n",
        "    prompt = f\"\"\" You are a market research agent responsible for analyzing the sector of the stock - {stock_symbol}. Your tasks include:\n",
        "                  Identifying the sector and industry the stock belongs to and analyzing recent trends and developments within that sector.\n",
        "                  Assessing the short-term (6-12 months) and long-term (3-5 years) growth potential of the sector, with a primary focus on its performance and opportunities in India, followed by an analysis of global trends and their impact on the sector.\n",
        "                  Focusing your analysis on the following key factors, especially in the Indian context:\n",
        "                  Market size and demand drivers\n",
        "                  Competitive landscape and emerging players\n",
        "                  Technological advancements and their sectoral adoption\n",
        "                  Identifying the critical points that influence the given stock's potential based on the sector's performance and trends.\n",
        "                  Finally, provide your findings as a short and concise summary that highlights only the key points influencing the stock. Avoid lengthy explanations and focus on actionable insights and crucial trends.\"\"\"\n",
        "\n",
        "    completion = client.chat.completions.create(\n",
        "        model=\"gpt-4o\",\n",
        "        store=True,\n",
        "        messages=[\n",
        "            {\"role\": \"user\", \"content\": prompt}\n",
        "        ]\n",
        "    )\n",
        "    return completion.choices[0].message.content\n",
        "\n",
        "# stock_symbol = \"RELIANCE\"\n",
        "# report = get_market_research(stock_symbol)\n",
        "# print(report)\n"
      ],
      "metadata": {
        "id": "NdzVcvUxnAPF"
      },
      "execution_count": null,
      "outputs": []
    },
    {
      "cell_type": "code",
      "source": [
        "# res = get_market_research_report(\"RELIANCE\")"
      ],
      "metadata": {
        "id": "HBhfO6cv4HiY"
      },
      "execution_count": null,
      "outputs": []
    },
    {
      "cell_type": "code",
      "source": [
        "pip install autogen"
      ],
      "metadata": {
        "colab": {
          "base_uri": "https://localhost:8080/"
        },
        "id": "IIhBd7ev1epr",
        "outputId": "134d8e19-72da-41b1-b3a7-cb6d64ec99f2"
      },
      "execution_count": null,
      "outputs": [
        {
          "output_type": "stream",
          "name": "stdout",
          "text": [
            "Collecting autogen\n",
            "  Downloading autogen-0.6.0-py3-none-any.whl.metadata (22 kB)\n",
            "Collecting pyautogen==0.6.0 (from autogen)\n",
            "  Downloading pyautogen-0.6.0-py3-none-any.whl.metadata (26 kB)\n",
            "Collecting asyncer>=0.0.8 (from pyautogen==0.6.0->autogen)\n",
            "  Downloading asyncer-0.0.8-py3-none-any.whl.metadata (6.7 kB)\n",
            "Collecting diskcache (from pyautogen==0.6.0->autogen)\n",
            "  Downloading diskcache-5.6.3-py3-none-any.whl.metadata (20 kB)\n",
            "Collecting docker (from pyautogen==0.6.0->autogen)\n",
            "  Downloading docker-7.1.0-py3-none-any.whl.metadata (3.8 kB)\n",
            "Collecting flaml (from pyautogen==0.6.0->autogen)\n",
            "  Downloading FLAML-2.3.3-py3-none-any.whl.metadata (16 kB)\n",
            "Requirement already satisfied: openai>=1.57 in /usr/local/lib/python3.10/dist-packages (from pyautogen==0.6.0->autogen) (1.57.4)\n",
            "Requirement already satisfied: packaging in /usr/local/lib/python3.10/dist-packages (from pyautogen==0.6.0->autogen) (24.2)\n",
            "Requirement already satisfied: pydantic!=2.6.0,<3,>=1.10 in /usr/local/lib/python3.10/dist-packages (from pyautogen==0.6.0->autogen) (2.10.3)\n",
            "Collecting python-dotenv (from pyautogen==0.6.0->autogen)\n",
            "  Downloading python_dotenv-1.0.1-py3-none-any.whl.metadata (23 kB)\n",
            "Requirement already satisfied: termcolor in /usr/local/lib/python3.10/dist-packages (from pyautogen==0.6.0->autogen) (2.5.0)\n",
            "Collecting tiktoken (from pyautogen==0.6.0->autogen)\n",
            "  Downloading tiktoken-0.8.0-cp310-cp310-manylinux_2_17_x86_64.manylinux2014_x86_64.whl.metadata (6.6 kB)\n",
            "Requirement already satisfied: websockets<15,>=14 in /usr/local/lib/python3.10/dist-packages (from pyautogen==0.6.0->autogen) (14.1)\n",
            "Requirement already satisfied: numpy<2.0.0,>=1.24.0 in /usr/local/lib/python3.10/dist-packages (from pyautogen==0.6.0->autogen) (1.26.4)\n",
            "Requirement already satisfied: anyio<5.0,>=3.4.0 in /usr/local/lib/python3.10/dist-packages (from asyncer>=0.0.8->pyautogen==0.6.0->autogen) (3.7.1)\n",
            "Requirement already satisfied: distro<2,>=1.7.0 in /usr/local/lib/python3.10/dist-packages (from openai>=1.57->pyautogen==0.6.0->autogen) (1.9.0)\n",
            "Requirement already satisfied: httpx<1,>=0.23.0 in /usr/local/lib/python3.10/dist-packages (from openai>=1.57->pyautogen==0.6.0->autogen) (0.28.1)\n",
            "Requirement already satisfied: jiter<1,>=0.4.0 in /usr/local/lib/python3.10/dist-packages (from openai>=1.57->pyautogen==0.6.0->autogen) (0.8.2)\n",
            "Requirement already satisfied: sniffio in /usr/local/lib/python3.10/dist-packages (from openai>=1.57->pyautogen==0.6.0->autogen) (1.3.1)\n",
            "Requirement already satisfied: tqdm>4 in /usr/local/lib/python3.10/dist-packages (from openai>=1.57->pyautogen==0.6.0->autogen) (4.67.1)\n",
            "Requirement already satisfied: typing-extensions<5,>=4.11 in /usr/local/lib/python3.10/dist-packages (from openai>=1.57->pyautogen==0.6.0->autogen) (4.12.2)\n",
            "Requirement already satisfied: annotated-types>=0.6.0 in /usr/local/lib/python3.10/dist-packages (from pydantic!=2.6.0,<3,>=1.10->pyautogen==0.6.0->autogen) (0.7.0)\n",
            "Requirement already satisfied: pydantic-core==2.27.1 in /usr/local/lib/python3.10/dist-packages (from pydantic!=2.6.0,<3,>=1.10->pyautogen==0.6.0->autogen) (2.27.1)\n",
            "Requirement already satisfied: requests>=2.26.0 in /usr/local/lib/python3.10/dist-packages (from docker->pyautogen==0.6.0->autogen) (2.32.3)\n",
            "Requirement already satisfied: urllib3>=1.26.0 in /usr/local/lib/python3.10/dist-packages (from docker->pyautogen==0.6.0->autogen) (2.2.3)\n",
            "Requirement already satisfied: regex>=2022.1.18 in /usr/local/lib/python3.10/dist-packages (from tiktoken->pyautogen==0.6.0->autogen) (2024.11.6)\n",
            "Requirement already satisfied: idna>=2.8 in /usr/local/lib/python3.10/dist-packages (from anyio<5.0,>=3.4.0->asyncer>=0.0.8->pyautogen==0.6.0->autogen) (3.10)\n",
            "Requirement already satisfied: exceptiongroup in /usr/local/lib/python3.10/dist-packages (from anyio<5.0,>=3.4.0->asyncer>=0.0.8->pyautogen==0.6.0->autogen) (1.2.2)\n",
            "Requirement already satisfied: certifi in /usr/local/lib/python3.10/dist-packages (from httpx<1,>=0.23.0->openai>=1.57->pyautogen==0.6.0->autogen) (2024.12.14)\n",
            "Requirement already satisfied: httpcore==1.* in /usr/local/lib/python3.10/dist-packages (from httpx<1,>=0.23.0->openai>=1.57->pyautogen==0.6.0->autogen) (1.0.7)\n",
            "Requirement already satisfied: h11<0.15,>=0.13 in /usr/local/lib/python3.10/dist-packages (from httpcore==1.*->httpx<1,>=0.23.0->openai>=1.57->pyautogen==0.6.0->autogen) (0.14.0)\n",
            "Requirement already satisfied: charset-normalizer<4,>=2 in /usr/local/lib/python3.10/dist-packages (from requests>=2.26.0->docker->pyautogen==0.6.0->autogen) (3.4.0)\n",
            "Downloading autogen-0.6.0-py3-none-any.whl (13 kB)\n",
            "Downloading pyautogen-0.6.0-py3-none-any.whl (450 kB)\n",
            "\u001b[2K   \u001b[90m━━━━━━━━━━━━━━━━━━━━━━━━━━━━━━━━━━━━━━━━\u001b[0m \u001b[32m450.1/450.1 kB\u001b[0m \u001b[31m8.1 MB/s\u001b[0m eta \u001b[36m0:00:00\u001b[0m\n",
            "\u001b[?25hDownloading asyncer-0.0.8-py3-none-any.whl (9.2 kB)\n",
            "Downloading diskcache-5.6.3-py3-none-any.whl (45 kB)\n",
            "\u001b[2K   \u001b[90m━━━━━━━━━━━━━━━━━━━━━━━━━━━━━━━━━━━━━━━━\u001b[0m \u001b[32m45.5/45.5 kB\u001b[0m \u001b[31m3.0 MB/s\u001b[0m eta \u001b[36m0:00:00\u001b[0m\n",
            "\u001b[?25hDownloading docker-7.1.0-py3-none-any.whl (147 kB)\n",
            "\u001b[2K   \u001b[90m━━━━━━━━━━━━━━━━━━━━━━━━━━━━━━━━━━━━━━━━\u001b[0m \u001b[32m147.8/147.8 kB\u001b[0m \u001b[31m10.7 MB/s\u001b[0m eta \u001b[36m0:00:00\u001b[0m\n",
            "\u001b[?25hDownloading FLAML-2.3.3-py3-none-any.whl (314 kB)\n",
            "\u001b[2K   \u001b[90m━━━━━━━━━━━━━━━━━━━━━━━━━━━━━━━━━━━━━━━━\u001b[0m \u001b[32m314.2/314.2 kB\u001b[0m \u001b[31m19.6 MB/s\u001b[0m eta \u001b[36m0:00:00\u001b[0m\n",
            "\u001b[?25hDownloading python_dotenv-1.0.1-py3-none-any.whl (19 kB)\n",
            "Downloading tiktoken-0.8.0-cp310-cp310-manylinux_2_17_x86_64.manylinux2014_x86_64.whl (1.2 MB)\n",
            "\u001b[2K   \u001b[90m━━━━━━━━━━━━━━━━━━━━━━━━━━━━━━━━━━━━━━━━\u001b[0m \u001b[32m1.2/1.2 MB\u001b[0m \u001b[31m39.6 MB/s\u001b[0m eta \u001b[36m0:00:00\u001b[0m\n",
            "\u001b[?25hInstalling collected packages: python-dotenv, flaml, diskcache, tiktoken, docker, asyncer, pyautogen, autogen\n",
            "Successfully installed asyncer-0.0.8 autogen-0.6.0 diskcache-5.6.3 docker-7.1.0 flaml-2.3.3 pyautogen-0.6.0 python-dotenv-1.0.1 tiktoken-0.8.0\n"
          ]
        }
      ]
    },
    {
      "cell_type": "code",
      "execution_count": null,
      "metadata": {
        "colab": {
          "base_uri": "https://localhost:8080/"
        },
        "id": "7eguhBMemsot",
        "outputId": "9c404ebb-7875-4167-f727-dc27417c5e90"
      },
      "outputs": [
        {
          "output_type": "stream",
          "name": "stderr",
          "text": [
            "/usr/local/lib/python3.10/dist-packages/dask/dataframe/__init__.py:42: FutureWarning: \n",
            "Dask dataframe query planning is disabled because dask-expr is not installed.\n",
            "\n",
            "You can install it with `pip install dask[dataframe]` or `conda install dask`.\n",
            "This will raise in a future version.\n",
            "\n",
            "  warnings.warn(msg, FutureWarning)\n"
          ]
        }
      ],
      "source": [
        "import autogen\n",
        "import os\n",
        "import httpx\n",
        "import requests"
      ]
    },
    {
      "cell_type": "code",
      "execution_count": null,
      "metadata": {
        "id": "qcUtqcG9msow"
      },
      "outputs": [],
      "source": [
        "import os\n",
        "from autogen import AssistantAgent, UserProxyAgent\n",
        "\n",
        "llm_config = { \"config_list\": [{ \"model\": \"gpt-4o\", \"api_key\": \"Add_your_key\" }] }\n",
        "# assistant = AssistantAgent(\"assistant\", llm_config=llm_config)\n",
        "# user_proxy = UserProxyAgent(\"user_proxy\", code_execution_config=False)\n",
        "\n",
        "# # Start the chat\n",
        "# user_proxy.initiate_chat(\n",
        "#     assistant,\n",
        "#     message=\"Tell me a joke about NVDA and TESLA stock prices.\",\n",
        "# )"
      ]
    },
    {
      "cell_type": "code",
      "execution_count": null,
      "metadata": {
        "id": "umzO6dxfmsox"
      },
      "outputs": [],
      "source": [
        "user_proxy = UserProxyAgent(\"user_proxy\", code_execution_config=False, human_input_mode=\"NEVER\")"
      ]
    },
    {
      "cell_type": "code",
      "execution_count": null,
      "metadata": {
        "id": "S_LLGEhRmsoy"
      },
      "outputs": [],
      "source": [
        "financial_agent_prompt = \"\"\"\n",
        "You are an agent responsible for fetching the financials of a given company. You have access to the following tools to accomplish this task:\n",
        "get_current_price: Fetches the current price of the stock.\n",
        "get_financials: gets the financials reports of company for the last 5 quarters.\n",
        "Use all the tools at your disposal to fetch comprehensive financial data for the specified company and provide a structured response summarizing your findings.\n",
        "\"\"\""
      ]
    },
    {
      "cell_type": "code",
      "execution_count": null,
      "metadata": {
        "id": "E2eE2gHzmsoy"
      },
      "outputs": [],
      "source": [
        "financial_agent = AssistantAgent(\n",
        "    name=\"financial_agent\",\n",
        "    llm_config=llm_config,\n",
        "    system_message=financial_agent_prompt\n",
        ")"
      ]
    },
    {
      "cell_type": "code",
      "execution_count": null,
      "metadata": {
        "colab": {
          "base_uri": "https://localhost:8080/"
        },
        "id": "wjFA1UrWmsoz",
        "outputId": "689844ab-8a3b-4bc4-f512-2a6a23f680bf"
      },
      "outputs": [
        {
          "output_type": "stream",
          "name": "stderr",
          "text": [
            "WARNING:autogen.function_utils:The return type of the function 'get_current_price' is not annotated. Although annotating it is optional, the function should return either a string, a subclass of 'pydantic.BaseModel'.\n"
          ]
        }
      ],
      "source": [
        "autogen.agentchat.register_function(\n",
        "    get_current_price,\n",
        "    caller=financial_agent,\n",
        "    executor=user_proxy,\n",
        "    name=\"get_current_price\",\n",
        "    description=\"Fetches the current price of the stock.\"\n",
        ")"
      ]
    },
    {
      "cell_type": "code",
      "execution_count": null,
      "metadata": {
        "colab": {
          "base_uri": "https://localhost:8080/"
        },
        "id": "ezTvT5Atmsoz",
        "outputId": "c4ef623a-8fe9-416b-f420-3c3add92a8b0"
      },
      "outputs": [
        {
          "output_type": "stream",
          "name": "stderr",
          "text": [
            "WARNING:autogen.function_utils:The return type of the function 'get_financials' is not annotated. Although annotating it is optional, the function should return either a string, a subclass of 'pydantic.BaseModel'.\n"
          ]
        }
      ],
      "source": [
        "autogen.agentchat.register_function(\n",
        "    get_financials,\n",
        "    caller=financial_agent,\n",
        "    executor=user_proxy,\n",
        "    name=\"get_financials\",\n",
        "    description=\"gets the financials reports of company for the last 5 quarters.\"\n",
        ")"
      ]
    },
    {
      "cell_type": "code",
      "execution_count": null,
      "metadata": {
        "id": "GJNdhZ4Xmso0"
      },
      "outputs": [],
      "source": [
        "news_agent_prompt = \"\"\"You are an agent responsible for fetching the latest news and updates of a company\"\"\""
      ]
    },
    {
      "cell_type": "code",
      "execution_count": null,
      "metadata": {
        "id": "jUjXuSS7mso0"
      },
      "outputs": [],
      "source": [
        "news_agent = AssistantAgent(\n",
        "    name=\"news_agent\",\n",
        "    llm_config=llm_config,\n",
        "    system_message= news_agent_prompt\n",
        ")"
      ]
    },
    {
      "cell_type": "code",
      "execution_count": null,
      "metadata": {
        "id": "2_1l9ISWmso0",
        "outputId": "cf837bcc-9067-42cf-9a2d-b4fc7680fd25",
        "colab": {
          "base_uri": "https://localhost:8080/"
        }
      },
      "outputs": [
        {
          "output_type": "stream",
          "name": "stderr",
          "text": [
            "WARNING:autogen.function_utils:The return type of the function 'get_recent_stock_news' is not annotated. Although annotating it is optional, the function should return either a string, a subclass of 'pydantic.BaseModel'.\n"
          ]
        }
      ],
      "source": [
        "autogen.agentchat.register_function(\n",
        "    get_recent_stock_news,\n",
        "    caller=news_agent,\n",
        "    executor=user_proxy,\n",
        "    name=\"get_recent_stock_news\",\n",
        "    description=\"gets the latest news and updates of a company.\"\n",
        ")"
      ]
    },
    {
      "cell_type": "code",
      "execution_count": null,
      "metadata": {
        "id": "CSG8P2eDmso1"
      },
      "outputs": [],
      "source": [
        "  market_research_agent_prompt = \"\"\"You are an agent responsible for fetching the market research of the sector for a given company\"\"\""
      ]
    },
    {
      "cell_type": "code",
      "source": [
        "market_research_agent = AssistantAgent(\n",
        "    name=\"market_research_agent\",\n",
        "    llm_config=llm_config,\n",
        "    system_message= market_research_agent_prompt\n",
        ")"
      ],
      "metadata": {
        "id": "OciYa0LDqfBU"
      },
      "execution_count": null,
      "outputs": []
    },
    {
      "cell_type": "code",
      "source": [
        "autogen.agentchat.register_function(\n",
        "    get_market_research_report,\n",
        "    caller=market_research_agent,\n",
        "    executor=user_proxy,\n",
        "    name=\"get_market_research_report\",\n",
        "    description=\"gets the market research of the sector to which the company belongs\"\n",
        ")"
      ],
      "metadata": {
        "id": "N4WaQdtjqtMu",
        "colab": {
          "base_uri": "https://localhost:8080/"
        },
        "outputId": "4bd2d5ec-0b35-497c-cd83-003d13f3f1b6"
      },
      "execution_count": null,
      "outputs": [
        {
          "output_type": "stream",
          "name": "stderr",
          "text": [
            "WARNING:autogen.function_utils:The return type of the function 'get_market_research_report' is not annotated. Although annotating it is optional, the function should return either a string, a subclass of 'pydantic.BaseModel'.\n"
          ]
        }
      ]
    },
    {
      "cell_type": "code",
      "source": [
        "analysis_agent = AssistantAgent(\n",
        "    name=\"analysis_agent\",\n",
        "    llm_config=llm_config,\n",
        "    system_message=\"You are an agent who will perform the consolidated analysis of the given stock based on the financial results, market research analysis and latest news from other agents. Make sure to consider all the points and provide Buy/sell/Need to perform more analysis. Along with the reasons \"\n",
        ")"
      ],
      "metadata": {
        "id": "LMW_o88x98D-"
      },
      "execution_count": null,
      "outputs": []
    },
    {
      "cell_type": "code",
      "source": [
        "manager_prompt= \"\"\"You are the Groupchat Manager in a multi-agent system responsible for orchestrating collaboration among agents to deliver a comprehensive analysis of a given stock. Your tasks are as follows:\n",
        "\n",
        "Manage Communication: Coordinate with the following agents:\n",
        "\n",
        "Financial Agent: Fetches and provides detailed financial reports for the stock.\n",
        "News Agent: Retrieves and analyzes the latest news related to the stock and its industry.\n",
        "Market Research Agent: Provides insights into the sector and assesses short-term and long-term potential, primarily focusing on India, followed by global trends.\n",
        "Integrate Inputs: Collect information from all agents, ensure completeness, and handle any follow-up queries or tasks to address missing or incomplete data.\n",
        "\n",
        "Synthesize Insights: Organize and combine data and analysis from all agents into a unified, actionable report.\n",
        "\n",
        "Output Goal: Your final goal is to deliver a comprehensive analysis of the stock, incorporating:\n",
        "\n",
        "Key financial metrics and trends from the Financial Agent.\n",
        "Relevant news and sentiment analysis from the News Agent.\n",
        "Sector performance and potential from the Market Research Agent.\n",
        "Present this consolidated analysis in a clear and concise format, focusing on key findings that help stakeholders evaluate the stock's short-term and long-term prospects. Avoid redundancies and ensure the information is cohesive and actionable. Strictly use all agents to get all the information and make a consolidated analysis.\n",
        "Analysis agent will help you provide the consolidated analysis based on the output of all other agents.\n",
        "\"\"\""
      ],
      "metadata": {
        "id": "MyfDb4fg2WCs"
      },
      "execution_count": null,
      "outputs": []
    },
    {
      "cell_type": "code",
      "source": [
        "from autogen import GroupChat, GroupChatManager\n",
        "\n",
        "# Assuming you've already defined and registered your agents as shown in your previous code\n",
        "\n",
        "# Create a group chat with the three agents\n",
        "group_chat = GroupChat(agents=[financial_agent,news_agent, market_research_agent,user_proxy,analysis_agent], messages=[], max_round=12)\n",
        "\n",
        "# Create a group chat manager\n",
        "manager = GroupChatManager(groupchat=group_chat, llm_config=llm_config, system_message=manager_prompt)"
      ],
      "metadata": {
        "id": "tJ4_ypiCxD98"
      },
      "execution_count": null,
      "outputs": []
    },
    {
      "cell_type": "code",
      "source": [
        "res=user_proxy.initiate_chat(manager, message=f\"Analyze the stock Cipla.\")"
      ],
      "metadata": {
        "colab": {
          "base_uri": "https://localhost:8080/"
        },
        "id": "3lYEayZjuBL1",
        "outputId": "a2e0278a-0a1f-4437-db8d-d72113c7d250"
      },
      "execution_count": null,
      "outputs": [
        {
          "output_type": "stream",
          "name": "stdout",
          "text": [
            "user_proxy (to chat_manager):\n",
            "\n",
            "Analyze the stock Cipla.\n",
            "\n",
            "--------------------------------------------------------------------------------\n",
            "\n",
            "Next speaker: financial_agent\n",
            "\n",
            "financial_agent (to chat_manager):\n",
            "\n",
            "***** Suggested tool call (call_eV5ZMp4FvFJQjSij0nWobodl): get_current_price *****\n",
            "Arguments: \n",
            "{\"stock_symbol\": \"CIPLA\", \"series\": \"EQ\"}\n",
            "**********************************************************************************\n",
            "***** Suggested tool call (call_kngDXEEzt8ZmXYTa937sh3BS): get_financials *****\n",
            "Arguments: \n",
            "{\"stock_symbol\": \"CIPLA\"}\n",
            "*******************************************************************************\n",
            "\n",
            "--------------------------------------------------------------------------------\n",
            "\n",
            "Next speaker: user_proxy\n",
            "\n",
            "\n",
            ">>>>>>>> EXECUTING FUNCTION get_current_price...\n",
            "\n",
            ">>>>>>>> EXECUTING FUNCTION get_financials...\n",
            "user_proxy (to chat_manager):\n",
            "\n",
            "***** Response from calling tool (call_eV5ZMp4FvFJQjSij0nWobodl) *****\n",
            "[{\"_id\":\"67728b7e3592730a18a58d20\",\"CH_SYMBOL\":\"CIPLA\",\"CH_SERIES\":\"EQ\",\"CH_MARKET_TYPE\":\"N\",\"CH_TIMESTAMP\":\"2024-12-30\",\"TIMESTAMP\":\"2024-12-29T18:30:00.000Z\",\"CH_TRADE_HIGH_PRICE\":1526.7,\"CH_TRADE_LOW_PRICE\":1495.1,\"CH_OPENING_PRICE\":1509,\"CH_CLOSING_PRICE\":1521.4,\"CH_LAST_TRADED_PRICE\":1517.95,\"CH_PREVIOUS_CLS_PRICE\":1506.6,\"CH_TOT_TRADED_QTY\":1501086,\"CH_TOT_TRADED_VAL\":2278040278.5999999046,\"CH_52WEEK_HIGH_PRICE\":1702.05,\"CH_52WEEK_LOW_PRICE\":1246.7,\"CH_TOTAL_TRADES\":84414,\"CH_ISIN\":\"INE059A01026\",\"createdAt\":\"2024-12-30T12:01:02.471Z\",\"updatedAt\":\"2024-12-30T12:01:02.471Z\",\"__v\":0,\"SLBMH_TOT_VAL\":null,\"VWAP\":1517.59,\"mTIMESTAMP\":\"30-Dec-2024\"}]\n",
            "**********************************************************************\n",
            "\n",
            "--------------------------------------------------------------------------------\n",
            "***** Response from calling tool (call_kngDXEEzt8ZmXYTa937sh3BS) *****\n",
            "[{\"End Date of Reporting Period\": \"30-SEP-2024\", \"Start Date of Reporting Period\": \"01-JUL-2024\", \"Date of Result Reporting/Publication\": \"29-OCT-2024\", \"Type of Result\": \"U\", \"Exceptional Items During Reporting Period\": \"0\", \"Segment-Specific Notes/Comments\": \"Since the characters in the notes exceed the set limit, it is requested to refer to the detailed notes in PDF result as uploaded on the Stock Exchanges.\", \"Employee/Staff-Related Expenses\": \"74458\", \"Total Expenses Excluding Provisions/Contingencies\": null, \"Gross Non-Performing Assets (NPA)\": null, \"Interest Expenditure\": null, \"Consolidated Profit/Loss for the Period\": \"117816\", \"Net Sales Revenue\": \"477503\", \"Other Expenses\": \"117367\", \"Raw Material Consumption\": \"97492\", \"Diluted Earnings Per Share (EPS)\": null, \"Incremental Deferred Tax Asset/Liability\": \"-10045\", \"Purchases of Traded Goods\": \"54427\", \"Face Value of Equity Shares\": \"2\", \"Income from Investments\": null, \"Deferred Tax\": \"-642\", \"Share of Profit/Loss from Associates\": \"0\", \"Return on Assets/Retired Assets\": null, \"Profit/Loss from Ordinary Activities\": \"117816\", \"Notes Accompanying Accounts\": \"\", \"Percentage of Gross NPAs\": null, \"Exceptional Items\": null, \"New Interest Income/Expenditure\": \"300\", \"Profit/Loss from Discontinued Operations\": \"0\", \"Government Shareholding Percentage\": null, \"Basic Earnings Per Share (EPS) for Continuing/Discontinued Operations\": \"14.59\", \"Other Operating Expenses\": null, \"General Remarks/Notes\": null, \"Segment-Wise Remarks\": null, \"Diluted EPS for Continuing/Discontinued Operations\": \"14.58\", \"Notes/Descriptions About Financial Data\": \"Since the characters in the notes exceed the set limit, it is requested to refer to the detailed notes in PDF result as uploaded on the Stock Exchanges.\", \"Profit/Loss Before Tax\": \"157847\", \"Revaluation of Reserves\": null, \"Interest Service Coverage Ratio\": null, \"Capital Adequacy Ratio\": null, \"Debt-Equity Ratio\": null, \"Current Tax Liabilities\": \"40673\", \"Net Profit for the Period\": \"117816\", \"Total Income\": \"506417\", \"Other New Income Sources\": \"28914\", \"Total of Other Expenses\": \"348570\", \"Sequence Number (Internal Identifier)\": \"1183606\"}, {\"End Date of Reporting Period\": \"30-JUN-2024\", \"Start Date of Reporting Period\": \"01-APR-2024\", \"Date of Result Reporting/Publication\": \"26-JUL-2024\", \"Type of Result\": \"U\", \"Exceptional Items During Reporting Period\": \"0\", \"Segment-Specific Notes/Comments\": \"-\", \"Employee/Staff-Related Expenses\": \"76391\", \"Total Expenses Excluding Provisions/Contingencies\": null, \"Gross Non-Performing Assets (NPA)\": null, \"Interest Expenditure\": null, \"Consolidated Profit/Loss for the Period\": \"105594\", \"Net Sales Revenue\": \"450105\", \"Other Expenses\": \"107972\", \"Raw Material Consumption\": \"80359\", \"Diluted Earnings Per Share (EPS)\": null, \"Incremental Deferred Tax Asset/Liability\": \"-7811\", \"Purchases of Traded Goods\": \"57208\", \"Face Value of Equity Shares\": \"2\", \"Income from Investments\": null, \"Deferred Tax\": \"1659\", \"Share of Profit/Loss from Associates\": \"0\", \"Return on Assets/Retired Assets\": null, \"Profit/Loss from Ordinary Activities\": \"105594\", \"Notes Accompanying Accounts\": \"\", \"Percentage of Gross NPAs\": null, \"Exceptional Items\": null, \"New Interest Income/Expenditure\": \"507\", \"Profit/Loss from Discontinued Operations\": \"0\", \"Government Shareholding Percentage\": null, \"Basic Earnings Per Share (EPS) for Continuing/Discontinued Operations\": \"13.08\", \"Other Operating Expenses\": null, \"General Remarks/Notes\": null, \"Segment-Wise Remarks\": null, \"Diluted EPS for Continuing/Discontinued Operations\": \"13.07\", \"Notes/Descriptions About Financial Data\": \"Since the characters in the notes exceed the set limit, it is requested to refer to the detailed notes in PDF result as uploaded on the Stock Exchanges.\", \"Profit/Loss Before Tax\": \"143045\", \"Revaluation of Reserves\": null, \"Interest Service Coverage Ratio\": null, \"Capital Adequacy Ratio\": null, \"Debt-Equity Ratio\": null, \"Current Tax Liabilities\": \"35792\", \"Net Profit for the Period\": \"105594\", \"Total Income\": \"471457\", \"Other New Income Sources\": \"21352\", \"Total of Other Expenses\": \"328412\", \"Sequence Number (Internal Identifier)\": \"1178151\"}, {\"End Date of Reporting Period\": \"31-MAR-2024\", \"Start Date of Reporting Period\": \"01-JAN-2024\", \"Date of Result Reporting/Publication\": \"11-MAY-2024\", \"Type of Result\": \"A\", \"Exceptional Items During Reporting Period\": \"0\", \"Segment-Specific Notes/Comments\": \"Segment assets and liabilities      As certain assets and liabilities are deployed interchangeably across segments, it is not practically possible to allocate those assets and liabilities to each segment. Hence, the details of assets and liabilities have not been disclosed in the above table.\", \"Employee/Staff-Related Expenses\": \"66215\", \"Total Expenses Excluding Provisions/Contingencies\": null, \"Gross Non-Performing Assets (NPA)\": null, \"Interest Expenditure\": null, \"Consolidated Profit/Loss for the Period\": \"103840\", \"Net Sales Revenue\": \"403666\", \"Other Expenses\": \"138501\", \"Raw Material Consumption\": \"51724\", \"Diluted Earnings Per Share (EPS)\": null, \"Incremental Deferred Tax Asset/Liability\": \"17694\", \"Purchases of Traded Goods\": \"46743\", \"Face Value of Equity Shares\": \"2\", \"Income from Investments\": null, \"Deferred Tax\": \"203\", \"Share of Profit/Loss from Associates\": \"0\", \"Return on Assets/Retired Assets\": null, \"Profit/Loss from Ordinary Activities\": \"98203\", \"Notes Accompanying Accounts\": \"\", \"Percentage of Gross NPAs\": null, \"Exceptional Items\": null, \"New Interest Income/Expenditure\": \"545\", \"Profit/Loss from Discontinued Operations\": \"7533\", \"Government Shareholding Percentage\": null, \"Basic Earnings Per Share (EPS) for Continuing/Discontinued Operations\": \"12.86\", \"Other Operating Expenses\": null, \"General Remarks/Notes\": null, \"Segment-Wise Remarks\": null, \"Diluted EPS for Continuing/Discontinued Operations\": \"12.85\", \"Notes/Descriptions About Financial Data\": \"Since the characters in the notes exceed the set limit, it is requested to refer to the detailed notes in PDF result as uploaded on the Stock Exchanges.\", \"Profit/Loss Before Tax\": \"122424\", \"Revaluation of Reserves\": null, \"Interest Service Coverage Ratio\": null, \"Capital Adequacy Ratio\": null, \"Debt-Equity Ratio\": null, \"Current Tax Liabilities\": \"24018\", \"Net Profit for the Period\": \"103840\", \"Total Income\": \"457527\", \"Other New Income Sources\": \"53861\", \"Total of Other Expenses\": \"335103\", \"Sequence Number (Internal Identifier)\": \"1171130\"}, {\"End Date of Reporting Period\": \"31-DEC-2023\", \"Start Date of Reporting Period\": \"01-OCT-2023\", \"Date of Result Reporting/Publication\": \"22-JAN-2024\", \"Type of Result\": \"U\", \"Exceptional Items During Reporting Period\": \"0\", \"Segment-Specific Notes/Comments\": \"-\", \"Employee/Staff-Related Expenses\": \"64822\", \"Total Expenses Excluding Provisions/Contingencies\": null, \"Gross Non-Performing Assets (NPA)\": null, \"Interest Expenditure\": null, \"Consolidated Profit/Loss for the Period\": \"111414\", \"Net Sales Revenue\": \"438133\", \"Other Expenses\": \"101183\", \"Raw Material Consumption\": \"67774\", \"Diluted Earnings Per Share (EPS)\": null, \"Incremental Deferred Tax Asset/Liability\": \"15036\", \"Purchases of Traded Goods\": \"53732\", \"Face Value of Equity Shares\": \"2\", \"Income from Investments\": null, \"Deferred Tax\": \"1431\", \"Share of Profit/Loss from Associates\": \"0\", \"Return on Assets/Retired Assets\": null, \"Profit/Loss from Ordinary Activities\": \"101776\", \"Notes Accompanying Accounts\": \"\", \"Percentage of Gross NPAs\": null, \"Exceptional Items\": null, \"New Interest Income/Expenditure\": \"906\", \"Profit/Loss from Discontinued Operations\": \"12880\", \"Government Shareholding Percentage\": null, \"Basic Earnings Per Share (EPS) for Continuing/Discontinued Operations\": \"13.8\", \"Other Operating Expenses\": null, \"General Remarks/Notes\": null, \"Segment-Wise Remarks\": null, \"Diluted EPS for Continuing/Discontinued Operations\": \"13.79\", \"Notes/Descriptions About Financial Data\": \"Since the characters in the notes exceed the set limit, it is requested to refer to the detailed notes in PDF result as uploaded on the Stock Exchanges.\", \"Profit/Loss Before Tax\": \"138076\", \"Revaluation of Reserves\": null, \"Interest Service Coverage Ratio\": null, \"Capital Adequacy Ratio\": null, \"Debt-Equity Ratio\": null, \"Current Tax Liabilities\": \"34869\", \"Net Profit for the Period\": \"111414\", \"Total Income\": \"455031\", \"Other New Income Sources\": \"16898\", \"Total of Other Expenses\": \"316955\", \"Sequence Number (Internal Identifier)\": \"1162610\"}, {\"End Date of Reporting Period\": \"30-SEP-2023\", \"Start Date of Reporting Period\": \"01-JUL-2023\", \"Date of Result Reporting/Publication\": \"28-OCT-2023\", \"Type of Result\": \"U\", \"Exceptional Items During Reporting Period\": \"0\", \"Segment-Specific Notes/Comments\": \"-\", \"Employee/Staff-Related Expenses\": \"69471\", \"Total Expenses Excluding Provisions/Contingencies\": null, \"Gross Non-Performing Assets (NPA)\": null, \"Interest Expenditure\": null, \"Consolidated Profit/Loss for the Period\": \"102969\", \"Net Sales Revenue\": \"466472\", \"Other Expenses\": \"107381\", \"Raw Material Consumption\": \"100121\", \"Diluted Earnings Per Share (EPS)\": null, \"Incremental Deferred Tax Asset/Liability\": \"-13874\", \"Purchases of Traded Goods\": \"65461\", \"Face Value of Equity Shares\": \"2\", \"Income from Investments\": null, \"Deferred Tax\": \"-130\", \"Share of Profit/Loss from Associates\": \"0\", \"Return on Assets/Retired Assets\": null, \"Profit/Loss from Ordinary Activities\": \"102969\", \"Notes Accompanying Accounts\": \"\", \"Percentage of Gross NPAs\": null, \"Exceptional Items\": null, \"New Interest Income/Expenditure\": \"780\", \"Profit/Loss from Discontinued Operations\": \"0\", \"Government Shareholding Percentage\": null, \"Basic Earnings Per Share (EPS) for Continuing/Discontinued Operations\": \"12.76\", \"Other Operating Expenses\": null, \"General Remarks/Notes\": null, \"Segment-Wise Remarks\": null, \"Diluted EPS for Continuing/Discontinued Operations\": \"12.75\", \"Notes/Descriptions About Financial Data\": \"Since the characters in the notes exceed the set limit, it is requested to refer to the detailed notes in PDF result as uploaded on the Stock Exchanges.\", \"Profit/Loss Before Tax\": \"139660\", \"Revaluation of Reserves\": null, \"Interest Service Coverage Ratio\": null, \"Capital Adequacy Ratio\": null, \"Debt-Equity Ratio\": null, \"Current Tax Liabilities\": \"36821\", \"Net Profit for the Period\": \"102969\", \"Total Income\": \"486981\", \"Other New Income Sources\": \"20509\", \"Total of Other Expenses\": \"347321\", \"Sequence Number (Internal Identifier)\": \"1156339\"}]\n",
            "**********************************************************************\n",
            "\n",
            "--------------------------------------------------------------------------------\n",
            "\n",
            "Next speaker: news_agent\n",
            "\n",
            "news_agent (to chat_manager):\n",
            "\n",
            "Here is an analysis of Cipla's stock based on its current price and financials:\n",
            "\n",
            "### Current Stock Information\n",
            "- **Last Traded Price:** 1517.95\n",
            "- **Previous Close Price:** 1506.6\n",
            "- **52 Week High:** 1702.05\n",
            "- **52 Week Low:** 1246.7\n",
            "- **Trade High Price (Last Trading Day):** 1526.7\n",
            "- **Trade Low Price (Last Trading Day):** 1495.1\n",
            "- **Total Traded Quantity:** 1,501,086\n",
            "- **Total Traded Value:** 2,278,040,278.6\n",
            "\n",
            "### Recent Financial Performance\n",
            "- **Quarter Ending 30-SEP-2024**\n",
            "  - **Net Sales Revenue:** 477,503 million\n",
            "  - **Net Profit:** 117,816 million\n",
            "  - **Basic Earnings Per Share (EPS):** 14.59\n",
            "  \n",
            "- **Quarter Ending 30-JUN-2024**\n",
            "  - **Net Sales Revenue:** 450,105 million\n",
            "  - **Net Profit:** 105,594 million\n",
            "  - **Basic Earnings Per Share (EPS):** 13.08\n",
            "\n",
            "- **Quarter Ending 31-MAR-2024**\n",
            "  - **Net Sales Revenue:** 403,666 million\n",
            "  - **Net Profit:** 103,840 million\n",
            "  - **Basic Earnings Per Share (EPS):** 12.86\n",
            "\n",
            "- **Quarter Ending 31-DEC-2023**\n",
            "  - **Net Sales Revenue:** 438,133 million\n",
            "  - **Net Profit:** 111,414 million\n",
            "  - **Basic Earnings Per Share (EPS):** 13.8\n",
            "\n",
            "- **Quarter Ending 30-SEP-2023**\n",
            "  - **Net Sales Revenue:** 466,472 million\n",
            "  - **Net Profit:** 102,969 million\n",
            "  - **Basic Earnings Per Share (EPS):** 12.76\n",
            "\n",
            "### Summary\n",
            "Cipla has shown consistent growth in its net sales revenue and profit over recent quarters, with earnings per share steadily improving. The stock's trading performance has been relatively stable, with a trading range close to its previous close price.\n",
            "\n",
            "If you need more detailed insights into specific aspects of Cipla's operations or further analysis, feel free to ask!\n",
            "\n",
            "--------------------------------------------------------------------------------\n",
            "\n",
            "Next speaker: news_agent\n",
            "\n",
            "news_agent (to chat_manager):\n",
            "\n",
            "***** Suggested tool call (call_EM0PwwcBSVWfwhJkGxoIBcYq): get_recent_stock_news *****\n",
            "Arguments: \n",
            "{\"stock_name\":\"Cipla\",\"num_news\":5}\n",
            "**************************************************************************************\n",
            "\n",
            "--------------------------------------------------------------------------------\n",
            "\n",
            "Next speaker: user_proxy\n",
            "\n",
            "\n",
            ">>>>>>>> EXECUTING FUNCTION get_recent_stock_news...\n",
            "user_proxy (to chat_manager):\n",
            "\n",
            "***** Response from calling tool (call_EM0PwwcBSVWfwhJkGxoIBcYq) *****\n",
            "[{\"headline\": \"Cipla share rises 2% after Kotak upgrades to 'buy', sees 19% upside potential\", \"Date\": \"<span>December 17, 2024 12:15 PM IST</span>\"}, {\"headline\": \"Buy Cipla; target of Rs 1695: Geojit Financial Services\", \"Date\": \"<span>December 04, 2024 12:53 PM IST</span>\"}, {\"headline\": \"Stock Radar: Swiggy, Wipro, Indegene, Protean eGov Tec, Solar Industries, Pricol, Godavari Biorefineries, KPI Green Energy in focus on Tuesday\", \"Date\": \"<span>December 03, 2024 03:20 AM IST</span>\"}, {\"headline\": \"Cipla stake sale: 1.72% equity changes hands in block deals; promoters likely sellers\", \"Date\": \"<span>December 02, 2024 08:59 AM IST</span>\"}, {\"headline\": \"Stock Radar: Maruti Suzuki, Hyundai Motor, Escorts, Cipla, Home First Finance, Aster DM, DLF, Greaves Cotton in focus on Monday\", \"Date\": \"<span>December 02, 2024 12:37 AM IST</span>\"}]\n",
            "**********************************************************************\n",
            "\n",
            "--------------------------------------------------------------------------------\n",
            "\n",
            "Next speaker: market_research_agent\n",
            "\n",
            "market_research_agent (to chat_manager):\n",
            "\n",
            "Here are some recent news articles related to Cipla:\n",
            "\n",
            "1. **\"Cipla share rises 2% after Kotak upgrades to 'buy', sees 19% upside potential\"**  \n",
            "   *Date:* December 17, 2024  \n",
            "\n",
            "2. **\"Buy Cipla; target of Rs 1695: Geojit Financial Services\"**  \n",
            "   *Date:* December 04, 2024  \n",
            "\n",
            "3. **\"Stock Radar: Swiggy, Wipro, Indegene, Protean eGov Tec, Solar Industries, Pricol, Godavari Biorefineries, KPI Green Energy in focus on Tuesday\"**  \n",
            "   *Date:* December 03, 2024  \n",
            "\n",
            "4. **\"Cipla stake sale: 1.72% equity changes hands in block deals; promoters likely sellers\"**  \n",
            "   *Date:* December 02, 2024  \n",
            "\n",
            "5. **\"Stock Radar: Maruti Suzuki, Hyundai Motor, Escorts, Cipla, Home First Finance, Aster DM, DLF, Greaves Cotton in focus on Monday\"**  \n",
            "   *Date:* December 02, 2024  \n",
            "\n",
            "These articles highlight some recent developments and analyst opinions regarding Cipla, indicating both market activities and analyst recommendations.\n",
            "\n",
            "--------------------------------------------------------------------------------\n",
            "\n",
            "Next speaker: market_research_agent\n",
            "\n",
            "market_research_agent (to chat_manager):\n",
            "\n",
            "***** Suggested tool call (call_3DI3IduaO6QSpCZ3AIlG8Z98): get_market_research_report *****\n",
            "Arguments: \n",
            "{\"stock_symbol\":\"CIPLA\"}\n",
            "*******************************************************************************************\n",
            "\n",
            "--------------------------------------------------------------------------------\n",
            "\n",
            "Next speaker: user_proxy\n",
            "\n",
            "\n",
            ">>>>>>>> EXECUTING FUNCTION get_market_research_report...\n",
            "user_proxy (to chat_manager):\n",
            "\n",
            "***** Response from calling tool (call_3DI3IduaO6QSpCZ3AIlG8Z98) *****\n",
            "**CIPLA - Sector and Industry Analysis**\n",
            "\n",
            "**Sector and Industry Overview:**\n",
            "- **Sector:** Healthcare\n",
            "- **Industry:** Pharmaceuticals\n",
            "\n",
            "**Recent Trends and Developments:**\n",
            "\n",
            "**India:**\n",
            "- **Market Size and Demand Drivers:**\n",
            "  - India’s pharmaceutical market is anticipated to grow significantly due to increased healthcare spending, a growing middle class, and a rise in chronic diseases.\n",
            "  - Government initiatives like “Atmanirbhar Bharat” and PLI schemes boost domestic manufacturing, supporting local companies.\n",
            "\n",
            "- **Competitive Landscape:**\n",
            "  - The Indian market is highly competitive with established players like Sun Pharma, Dr. Reddy’s, and Lupin.\n",
            "  - Emerging players and startups are focusing on niche segments such as biologics and personalized medicine.\n",
            "\n",
            "- **Technological Advancements:**\n",
            "  - Adoption of digital health technologies and AI in drug discovery and development is rising.\n",
            "  - Increasing focus on research and development, especially in biologics and complex generics.\n",
            "\n",
            "**Global Trends:**\n",
            "- The global pharmaceutical market is shifting towards specialty drugs and biologics.\n",
            "- Regulatory changes and pricing pressures in developed markets impact global operations.\n",
            "- Rising demand in emerging markets such as Africa and Latin America opens new opportunities.\n",
            "\n",
            "**Growth Potential:**\n",
            "\n",
            "**Short-term (6-12 months):**\n",
            "- Potential growth driven by increased demand for COVID-19 related drugs and vaccines.\n",
            "- Opportunities in expanding the portfolio of chronic condition treatments.\n",
            "- Price stability and supply chain resilience remain critical factors.\n",
            "\n",
            "**Long-term (3-5 years):**\n",
            "- Growth sustained by expansions in biosimilars, specialty pharmaceuticals, and entering untapped international markets.\n",
            "- Continued emphasis on R&D and tapping into digital health services for broadening market presence.\n",
            "\n",
            "**Critical Points Influencing CIPLA’s Potential:**\n",
            "- CIPLA’s focus on respiratory, oncology, and anti-viral segments aligns well with current demand trends.\n",
            "- Commitment to expanding manufacturing capacity and export markets strengthens its growth trajectory.\n",
            "- Emphasis on technological innovation and partnerships in biopharmaceuticals and specialty drugs enhances competitive positioning.\n",
            "- Regulatory support and incentives in the Indian market create a conducive environment for further growth.\n",
            "\n",
            "**Summary:**\n",
            "CIPLA is positioned for both short-term and long-term growth, driven by strong demand indicators, a competitive yet evolving landscape, and rapid technological adoption. Its strategic focus on high-demand therapeutic areas, expanding manufacturing capabilities, and diversification into new markets are critical to its sustained performance. Focus areas should include leveraging industry innovations, regulatory trends, and market demand to enhance its growth prospects.\n",
            "**********************************************************************\n",
            "\n",
            "--------------------------------------------------------------------------------\n",
            "\n",
            "Next speaker: analysis_agent\n",
            "\n",
            "analysis_agent (to chat_manager):\n",
            "\n",
            "Based on the consolidated analysis of Cipla's stock, here are the key points to consider:\n",
            "\n",
            "### Current Financial Performance:\n",
            "- Cipla has shown consistent growth across quarters with rising net sales and profits.\n",
            "- The latest quarter ended September 2024 reported a net sales revenue of 477,503 million and a net profit of 117,816 million.\n",
            "- Basic EPS has been improving, indicating potential growth in shareholder returns.\n",
            "\n",
            "### Stock Price Information:\n",
            "- The current last traded price is 1517.95.\n",
            "- The stock remains below its 52-week high of 1702.05 but above the 52-week low of 1246.7.\n",
            "\n",
            "### Market Analyst Opinions:\n",
            "- Recent upgrades from analysts with a \"buy\" recommendation and expectations of a 19% upside.\n",
            "- Target prices from financial services suggesting significant room for appreciation.\n",
            "\n",
            "### Recent Developments:\n",
            "- Strategic sales of equity have occurred, although not directly impacting core operations.\n",
            "- Coverage in various stock-focused analyses, suggesting market focus and liquidity.\n",
            "\n",
            "### Market Research Insights:\n",
            "- Pharma industry trends support growth with increasing healthcare spending and demand for chronic disease treatment.\n",
            "- Opportunities in biosimilars and international expansions are highlighted.\n",
            "- Technological advancements and government incentives in India could bolster growth.\n",
            "\n",
            "### Recommendation:\n",
            "**Buy**\n",
            "\n",
            "#### Reasons:\n",
            "1. **Solid Financials:** Consistent growth in revenue and profit, supported by a solid EPS trajectory.\n",
            "2. **Market Potential:** Positive sector trends in pharmaceuticals, especially in high-demand areas Cipla operates in.\n",
            "3. **Analyst Confidence:** Recent upgrades to \"buy\" with a solid upside potential point towards a positive sentiment.\n",
            "4. **Strategic Positioning:** Expansion into key therapeutic areas and leveraging technological innovations enhance long-term prospects.\n",
            "\n",
            "While the current trading price is slightly below its recent peak, the consistent financial growth, analyst recommendations, and strategic market positioning justify a \"buy\" recommendation for Cipla stock.\n",
            "\n",
            "--------------------------------------------------------------------------------\n",
            "\n",
            "Next speaker: analysis_agent\n",
            "\n",
            "analysis_agent (to chat_manager):\n",
            "\n",
            "**Recommendation: Buy Cipla Stock**\n",
            "\n",
            "### Reasons:\n",
            "1. **Solid Financial Performance:**\n",
            "   - Cipla has demonstrated consistent growth in net sales and profit across multiple quarters.\n",
            "   - Recent quarterly reports show a strong upward trajectory in earnings and EPS.\n",
            "\n",
            "2. **Positive Market Sentiment:**\n",
            "   - Recent analyst upgrades to \"buy\" from Kotak with a significant upside potential.\n",
            "   - Geojit Financial Services has also set a higher price target at Rs 1695, indicating potential appreciation.\n",
            "\n",
            "3. **Industry Trends:**\n",
            "   - Increased healthcare spending and a growing focus on chronic disease treatment bolster Cipla’s market position.\n",
            "   - Adoption of digital health technologies and focus on biologics increase long-term potential.\n",
            "\n",
            "4. **Strategic Positioning:**\n",
            "   - Cipla’s activity in high-demand therapeutic areas such as respiratory and oncology aligns with current health trends.\n",
            "   - Expansion plans, both domestically and internationally, coupled with technological innovations, enhance strategic growth.\n",
            "\n",
            "Given these factors, Cipla's stock shows a strong potential for growth, supported by financial performance, market trends, and strategic positioning. Hence, a \"buy\" recommendation is justified.\n",
            "\n",
            "--------------------------------------------------------------------------------\n",
            "\n",
            "Next speaker: analysis_agent\n",
            "\n",
            "analysis_agent (to chat_manager):\n",
            "\n",
            "**Recommendation: Buy Cipla Stock**\n",
            "\n",
            "### Reasons:\n",
            "1. **Solid Financial Performance:**\n",
            "   - Cipla has demonstrated consistent growth in net sales and profit across multiple quarters.\n",
            "   - The latest quarterly reports show a strong upward trajectory in earnings and EPS indicating improving shareholder returns.\n",
            "\n",
            "2. **Positive Market Sentiment:**\n",
            "   - Recent analyst upgrades to 'buy' from Kotak suggest a significant upside potential (19%).\n",
            "   - Geojit Financial Services has set a higher price target at Rs 1695, further underlining expected appreciation.\n",
            "\n",
            "3. **Industry Trends:**\n",
            "   - Increased healthcare spending and a focus on chronic disease treatment are bolstering Cipla’s market position.\n",
            "   - The growing demand for biologics and digital health technology adoption suggests future growth potential.\n",
            "\n",
            "4. **Strategic Positioning:**\n",
            "   - Cipla's focus on high-demand therapeutic areas like respiratory and oncology aligns with prevailing health trends.\n",
            "   - Its expansion plans both in domestic and international markets, coupled with technological innovation, provide a robust growth framework.\n",
            "\n",
            "Considering Cipla's financial health, market context, industry trends, and strategic initiatives, a 'buy' recommendation is warranted.\n",
            "\n",
            "--------------------------------------------------------------------------------\n"
          ]
        }
      ]
    },
    {
      "cell_type": "code",
      "source": [
        "res"
      ],
      "metadata": {
        "colab": {
          "base_uri": "https://localhost:8080/"
        },
        "id": "US-_c6VF8Lun",
        "outputId": "6d51f582-d6cf-41c0-c081-6eedca8717ed"
      },
      "execution_count": null,
      "outputs": [
        {
          "output_type": "execute_result",
          "data": {
            "text/plain": [
              "ChatResult(chat_id=None, chat_history=[{'content': 'Analyze the stock IDFC bank.', 'role': 'assistant', 'name': 'user_proxy'}, {'content': 'None', 'tool_calls': [{'id': 'call_wh8OtENYFD2CgpBYXh4h1Wyn', 'function': {'arguments': '{\"stock_symbol\": \"IDFC\", \"series\": \"EQ\"}', 'name': 'get_current_price'}, 'type': 'function'}, {'id': 'call_qQXoUOXiervqQsVVNwCEHBBT', 'function': {'arguments': '{\"stock_symbol\": \"IDFC\"}', 'name': 'get_financials'}, 'type': 'function'}], 'name': 'financial_agent', 'role': 'assistant'}, {'content': 'Error: \"[\\'_id\\', \\'CH_MARKET_TYPE\\', \\'CH_SERIES\\', \\'TIMESTAMP\\', \\'CH_TOTAL_TRADES\\', \\'CH_ISIN\\', \\'createdAt\\', \\'updatedAt\\', \\'SLBMH_TOT_VAL\\', \\'VWAP\\', \\'mTIMESTAMP\\', \\'__v\\'] not found in axis\"\\n\\n[{\"End Date of Reporting Period\": \"30-JUN-2024\", \"Start Date of Reporting Period\": \"01-APR-2024\", \"Date of Result Reporting/Publication\": \"02-AUG-2024\", \"Type of Result\": \"U\", \"Exceptional Items During Reporting Period\": \"0\", \"Segment-Specific Notes/Comments\": \"-\", \"Employee/Staff-Related Expenses\": \"290\", \"Total Expenses Excluding Provisions/Contingencies\": null, \"Gross Non-Performing Assets (NPA)\": null, \"Interest Expenditure\": null, \"Consolidated Profit/Loss for the Period\": \"33\", \"Net Sales Revenue\": \"765\", \"Other Expenses\": \"443\", \"Raw Material Consumption\": \"0\", \"Diluted Earnings Per Share (EPS)\": null, \"Incremental Deferred Tax Asset/Liability\": \"0\", \"Purchases of Traded Goods\": \"0\", \"Face Value of Equity Shares\": \"10\", \"Income from Investments\": null, \"Deferred Tax\": \"-45\", \"Share of Profit/Loss from Associates\": \"0\", \"Return on Assets/Retired Assets\": null, \"Profit/Loss from Ordinary Activities\": \"33\", \"Notes Accompanying Accounts\": \"\", \"Percentage of Gross NPAs\": null, \"Exceptional Items\": null, \"New Interest Income/Expenditure\": \"8\", \"Profit/Loss from Discontinued Operations\": \"0\", \"Government Shareholding Percentage\": null, \"Basic Earnings Per Share (EPS) for Continuing/Discontinued Operations\": \"0\", \"Other Operating Expenses\": null, \"General Remarks/Notes\": null, \"Segment-Wise Remarks\": null, \"Diluted EPS for Continuing/Discontinued Operations\": \"0\", \"Notes/Descriptions About Financial Data\": \"-\", \"Profit/Loss Before Tax\": \"21\", \"Revaluation of Reserves\": null, \"Interest Service Coverage Ratio\": null, \"Capital Adequacy Ratio\": null, \"Debt-Equity Ratio\": null, \"Current Tax Liabilities\": \"33\", \"Net Profit for the Period\": \"33\", \"Total Income\": \"765\", \"Other New Income Sources\": \"0\", \"Total of Other Expenses\": \"744\", \"Sequence Number (Internal Identifier)\": \"1178710\"}, {\"End Date of Reporting Period\": \"31-MAR-2024\", \"Start Date of Reporting Period\": \"01-JAN-2024\", \"Date of Result Reporting/Publication\": \"07-MAY-2024\", \"Type of Result\": \"A\", \"Exceptional Items During Reporting Period\": \"0\", \"Segment-Specific Notes/Comments\": \"-\", \"Employee/Staff-Related Expenses\": \"156\", \"Total Expenses Excluding Provisions/Contingencies\": null, \"Gross Non-Performing Assets (NPA)\": null, \"Interest Expenditure\": null, \"Consolidated Profit/Loss for the Period\": \"289\", \"Net Sales Revenue\": \"573\", \"Other Expenses\": \"61\", \"Raw Material Consumption\": \"0\", \"Diluted Earnings Per Share (EPS)\": null, \"Incremental Deferred Tax Asset/Liability\": \"0\", \"Purchases of Traded Goods\": \"0\", \"Face Value of Equity Shares\": \"10\", \"Income from Investments\": null, \"Deferred Tax\": \"13\", \"Share of Profit/Loss from Associates\": \"0\", \"Return on Assets/Retired Assets\": null, \"Profit/Loss from Ordinary Activities\": \"289\", \"Notes Accompanying Accounts\": \"\", \"Percentage of Gross NPAs\": null, \"Exceptional Items\": null, \"New Interest Income/Expenditure\": \"20\", \"Profit/Loss from Discontinued Operations\": \"0\", \"Government Shareholding Percentage\": null, \"Basic Earnings Per Share (EPS) for Continuing/Discontinued Operations\": \"0.02\", \"Other Operating Expenses\": null, \"General Remarks/Notes\": null, \"Segment-Wise Remarks\": null, \"Diluted EPS for Continuing/Discontinued Operations\": \"0.02\", \"Notes/Descriptions About Financial Data\": \"-\", \"Profit/Loss Before Tax\": \"334\", \"Revaluation of Reserves\": null, \"Interest Service Coverage Ratio\": null, \"Capital Adequacy Ratio\": null, \"Debt-Equity Ratio\": null, \"Current Tax Liabilities\": \"32\", \"Net Profit for the Period\": \"289\", \"Total Income\": \"573\", \"Other New Income Sources\": \"0\", \"Total of Other Expenses\": \"239\", \"Sequence Number (Internal Identifier)\": \"1170511\"}, {\"End Date of Reporting Period\": \"31-DEC-2023\", \"Start Date of Reporting Period\": \"01-OCT-2023\", \"Date of Result Reporting/Publication\": \"31-JAN-2024\", \"Type of Result\": \"U\", \"Exceptional Items During Reporting Period\": \"0\", \"Segment-Specific Notes/Comments\": \"-\", \"Employee/Staff-Related Expenses\": \"216\", \"Total Expenses Excluding Provisions/Contingencies\": null, \"Gross Non-Performing Assets (NPA)\": null, \"Interest Expenditure\": null, \"Consolidated Profit/Loss for the Period\": \"-1072\", \"Net Sales Revenue\": \"-1171\", \"Other Expenses\": \"258\", \"Raw Material Consumption\": \"0\", \"Diluted Earnings Per Share (EPS)\": null, \"Incremental Deferred Tax Asset/Liability\": \"0\", \"Purchases of Traded Goods\": \"0\", \"Face Value of Equity Shares\": \"10\", \"Income from Investments\": null, \"Deferred Tax\": \"-312\", \"Share of Profit/Loss from Associates\": \"0\", \"Return on Assets/Retired Assets\": null, \"Profit/Loss from Ordinary Activities\": \"-1072\", \"Notes Accompanying Accounts\": \"\", \"Percentage of Gross NPAs\": null, \"Exceptional Items\": null, \"New Interest Income/Expenditure\": \"32\", \"Profit/Loss from Discontinued Operations\": \"0\", \"Government Shareholding Percentage\": null, \"Basic Earnings Per Share (EPS) for Continuing/Discontinued Operations\": \"-0.07\", \"Other Operating Expenses\": null, \"General Remarks/Notes\": null, \"Segment-Wise Remarks\": null, \"Diluted EPS for Continuing/Discontinued Operations\": \"-0.07\", \"Notes/Descriptions About Financial Data\": \"-\", \"Profit/Loss Before Tax\": \"-1680\", \"Revaluation of Reserves\": null, \"Interest Service Coverage Ratio\": null, \"Capital Adequacy Ratio\": null, \"Debt-Equity Ratio\": null, \"Current Tax Liabilities\": \"-296\", \"Net Profit for the Period\": \"-1072\", \"Total Income\": \"-1171\", \"Other New Income Sources\": \"0\", \"Total of Other Expenses\": \"509\", \"Sequence Number (Internal Identifier)\": \"1163706\"}, {\"End Date of Reporting Period\": \"30-SEP-2023\", \"Start Date of Reporting Period\": \"01-JUL-2023\", \"Date of Result Reporting/Publication\": \"03-NOV-2023\", \"Type of Result\": \"U\", \"Exceptional Items During Reporting Period\": \"0\", \"Segment-Specific Notes/Comments\": \"-\", \"Employee/Staff-Related Expenses\": \"234\", \"Total Expenses Excluding Provisions/Contingencies\": null, \"Gross Non-Performing Assets (NPA)\": null, \"Interest Expenditure\": null, \"Consolidated Profit/Loss for the Period\": \"2165\", \"Net Sales Revenue\": \"3317\", \"Other Expenses\": \"157\", \"Raw Material Consumption\": \"0\", \"Diluted Earnings Per Share (EPS)\": null, \"Incremental Deferred Tax Asset/Liability\": \"0\", \"Purchases of Traded Goods\": \"0\", \"Face Value of Equity Shares\": \"10\", \"Income from Investments\": null, \"Deferred Tax\": \"155\", \"Share of Profit/Loss from Associates\": \"0\", \"Return on Assets/Retired Assets\": null, \"Profit/Loss from Ordinary Activities\": \"2165\", \"Notes Accompanying Accounts\": \"\", \"Percentage of Gross NPAs\": null, \"Exceptional Items\": null, \"New Interest Income/Expenditure\": \"97\", \"Profit/Loss from Discontinued Operations\": \"0\", \"Government Shareholding Percentage\": null, \"Basic Earnings Per Share (EPS) for Continuing/Discontinued Operations\": \"0.14\", \"Other Operating Expenses\": null, \"General Remarks/Notes\": null, \"Segment-Wise Remarks\": null, \"Diluted EPS for Continuing/Discontinued Operations\": \"0.14\", \"Notes/Descriptions About Financial Data\": \"-\", \"Profit/Loss Before Tax\": \"2827\", \"Revaluation of Reserves\": null, \"Interest Service Coverage Ratio\": null, \"Capital Adequacy Ratio\": null, \"Debt-Equity Ratio\": null, \"Current Tax Liabilities\": \"507\", \"Net Profit for the Period\": \"2165\", \"Total Income\": \"3317\", \"Other New Income Sources\": \"0\", \"Total of Other Expenses\": \"490\", \"Sequence Number (Internal Identifier)\": \"1157446\"}, {\"End Date of Reporting Period\": \"30-JUN-2023\", \"Start Date of Reporting Period\": \"01-APR-2023\", \"Date of Result Reporting/Publication\": \"04-AUG-2023\", \"Type of Result\": \"U\", \"Exceptional Items During Reporting Period\": \"0\", \"Segment-Specific Notes/Comments\": \"-\", \"Employee/Staff-Related Expenses\": \"101\", \"Total Expenses Excluding Provisions/Contingencies\": null, \"Gross Non-Performing Assets (NPA)\": null, \"Interest Expenditure\": null, \"Consolidated Profit/Loss for the Period\": \"1174\", \"Net Sales Revenue\": \"2283\", \"Other Expenses\": \"626\", \"Raw Material Consumption\": \"0\", \"Diluted Earnings Per Share (EPS)\": null, \"Incremental Deferred Tax Asset/Liability\": \"0\", \"Purchases of Traded Goods\": \"0\", \"Face Value of Equity Shares\": \"10\", \"Income from Investments\": null, \"Deferred Tax\": \"359\", \"Share of Profit/Loss from Associates\": \"0\", \"Return on Assets/Retired Assets\": null, \"Profit/Loss from Ordinary Activities\": \"1174\", \"Notes Accompanying Accounts\": \"\", \"Percentage of Gross NPAs\": null, \"Exceptional Items\": null, \"New Interest Income/Expenditure\": \"4\", \"Profit/Loss from Discontinued Operations\": \"0\", \"Government Shareholding Percentage\": null, \"Basic Earnings Per Share (EPS) for Continuing/Discontinued Operations\": \"0.07\", \"Other Operating Expenses\": null, \"General Remarks/Notes\": null, \"Segment-Wise Remarks\": null, \"Diluted EPS for Continuing/Discontinued Operations\": \"0.07\", \"Notes/Descriptions About Financial Data\": \"-\", \"Profit/Loss Before Tax\": \"1549\", \"Revaluation of Reserves\": null, \"Interest Service Coverage Ratio\": null, \"Capital Adequacy Ratio\": null, \"Debt-Equity Ratio\": null, \"Current Tax Liabilities\": \"16\", \"Net Profit for the Period\": \"1174\", \"Total Income\": \"2283\", \"Other New Income Sources\": \"0\", \"Total of Other Expenses\": \"734\", \"Sequence Number (Internal Identifier)\": \"1153063\"}]', 'tool_responses': [{'tool_call_id': 'call_wh8OtENYFD2CgpBYXh4h1Wyn', 'role': 'tool', 'content': 'Error: \"[\\'_id\\', \\'CH_MARKET_TYPE\\', \\'CH_SERIES\\', \\'TIMESTAMP\\', \\'CH_TOTAL_TRADES\\', \\'CH_ISIN\\', \\'createdAt\\', \\'updatedAt\\', \\'SLBMH_TOT_VAL\\', \\'VWAP\\', \\'mTIMESTAMP\\', \\'__v\\'] not found in axis\"'}, {'tool_call_id': 'call_qQXoUOXiervqQsVVNwCEHBBT', 'role': 'tool', 'content': '[{\"End Date of Reporting Period\": \"30-JUN-2024\", \"Start Date of Reporting Period\": \"01-APR-2024\", \"Date of Result Reporting/Publication\": \"02-AUG-2024\", \"Type of Result\": \"U\", \"Exceptional Items During Reporting Period\": \"0\", \"Segment-Specific Notes/Comments\": \"-\", \"Employee/Staff-Related Expenses\": \"290\", \"Total Expenses Excluding Provisions/Contingencies\": null, \"Gross Non-Performing Assets (NPA)\": null, \"Interest Expenditure\": null, \"Consolidated Profit/Loss for the Period\": \"33\", \"Net Sales Revenue\": \"765\", \"Other Expenses\": \"443\", \"Raw Material Consumption\": \"0\", \"Diluted Earnings Per Share (EPS)\": null, \"Incremental Deferred Tax Asset/Liability\": \"0\", \"Purchases of Traded Goods\": \"0\", \"Face Value of Equity Shares\": \"10\", \"Income from Investments\": null, \"Deferred Tax\": \"-45\", \"Share of Profit/Loss from Associates\": \"0\", \"Return on Assets/Retired Assets\": null, \"Profit/Loss from Ordinary Activities\": \"33\", \"Notes Accompanying Accounts\": \"\", \"Percentage of Gross NPAs\": null, \"Exceptional Items\": null, \"New Interest Income/Expenditure\": \"8\", \"Profit/Loss from Discontinued Operations\": \"0\", \"Government Shareholding Percentage\": null, \"Basic Earnings Per Share (EPS) for Continuing/Discontinued Operations\": \"0\", \"Other Operating Expenses\": null, \"General Remarks/Notes\": null, \"Segment-Wise Remarks\": null, \"Diluted EPS for Continuing/Discontinued Operations\": \"0\", \"Notes/Descriptions About Financial Data\": \"-\", \"Profit/Loss Before Tax\": \"21\", \"Revaluation of Reserves\": null, \"Interest Service Coverage Ratio\": null, \"Capital Adequacy Ratio\": null, \"Debt-Equity Ratio\": null, \"Current Tax Liabilities\": \"33\", \"Net Profit for the Period\": \"33\", \"Total Income\": \"765\", \"Other New Income Sources\": \"0\", \"Total of Other Expenses\": \"744\", \"Sequence Number (Internal Identifier)\": \"1178710\"}, {\"End Date of Reporting Period\": \"31-MAR-2024\", \"Start Date of Reporting Period\": \"01-JAN-2024\", \"Date of Result Reporting/Publication\": \"07-MAY-2024\", \"Type of Result\": \"A\", \"Exceptional Items During Reporting Period\": \"0\", \"Segment-Specific Notes/Comments\": \"-\", \"Employee/Staff-Related Expenses\": \"156\", \"Total Expenses Excluding Provisions/Contingencies\": null, \"Gross Non-Performing Assets (NPA)\": null, \"Interest Expenditure\": null, \"Consolidated Profit/Loss for the Period\": \"289\", \"Net Sales Revenue\": \"573\", \"Other Expenses\": \"61\", \"Raw Material Consumption\": \"0\", \"Diluted Earnings Per Share (EPS)\": null, \"Incremental Deferred Tax Asset/Liability\": \"0\", \"Purchases of Traded Goods\": \"0\", \"Face Value of Equity Shares\": \"10\", \"Income from Investments\": null, \"Deferred Tax\": \"13\", \"Share of Profit/Loss from Associates\": \"0\", \"Return on Assets/Retired Assets\": null, \"Profit/Loss from Ordinary Activities\": \"289\", \"Notes Accompanying Accounts\": \"\", \"Percentage of Gross NPAs\": null, \"Exceptional Items\": null, \"New Interest Income/Expenditure\": \"20\", \"Profit/Loss from Discontinued Operations\": \"0\", \"Government Shareholding Percentage\": null, \"Basic Earnings Per Share (EPS) for Continuing/Discontinued Operations\": \"0.02\", \"Other Operating Expenses\": null, \"General Remarks/Notes\": null, \"Segment-Wise Remarks\": null, \"Diluted EPS for Continuing/Discontinued Operations\": \"0.02\", \"Notes/Descriptions About Financial Data\": \"-\", \"Profit/Loss Before Tax\": \"334\", \"Revaluation of Reserves\": null, \"Interest Service Coverage Ratio\": null, \"Capital Adequacy Ratio\": null, \"Debt-Equity Ratio\": null, \"Current Tax Liabilities\": \"32\", \"Net Profit for the Period\": \"289\", \"Total Income\": \"573\", \"Other New Income Sources\": \"0\", \"Total of Other Expenses\": \"239\", \"Sequence Number (Internal Identifier)\": \"1170511\"}, {\"End Date of Reporting Period\": \"31-DEC-2023\", \"Start Date of Reporting Period\": \"01-OCT-2023\", \"Date of Result Reporting/Publication\": \"31-JAN-2024\", \"Type of Result\": \"U\", \"Exceptional Items During Reporting Period\": \"0\", \"Segment-Specific Notes/Comments\": \"-\", \"Employee/Staff-Related Expenses\": \"216\", \"Total Expenses Excluding Provisions/Contingencies\": null, \"Gross Non-Performing Assets (NPA)\": null, \"Interest Expenditure\": null, \"Consolidated Profit/Loss for the Period\": \"-1072\", \"Net Sales Revenue\": \"-1171\", \"Other Expenses\": \"258\", \"Raw Material Consumption\": \"0\", \"Diluted Earnings Per Share (EPS)\": null, \"Incremental Deferred Tax Asset/Liability\": \"0\", \"Purchases of Traded Goods\": \"0\", \"Face Value of Equity Shares\": \"10\", \"Income from Investments\": null, \"Deferred Tax\": \"-312\", \"Share of Profit/Loss from Associates\": \"0\", \"Return on Assets/Retired Assets\": null, \"Profit/Loss from Ordinary Activities\": \"-1072\", \"Notes Accompanying Accounts\": \"\", \"Percentage of Gross NPAs\": null, \"Exceptional Items\": null, \"New Interest Income/Expenditure\": \"32\", \"Profit/Loss from Discontinued Operations\": \"0\", \"Government Shareholding Percentage\": null, \"Basic Earnings Per Share (EPS) for Continuing/Discontinued Operations\": \"-0.07\", \"Other Operating Expenses\": null, \"General Remarks/Notes\": null, \"Segment-Wise Remarks\": null, \"Diluted EPS for Continuing/Discontinued Operations\": \"-0.07\", \"Notes/Descriptions About Financial Data\": \"-\", \"Profit/Loss Before Tax\": \"-1680\", \"Revaluation of Reserves\": null, \"Interest Service Coverage Ratio\": null, \"Capital Adequacy Ratio\": null, \"Debt-Equity Ratio\": null, \"Current Tax Liabilities\": \"-296\", \"Net Profit for the Period\": \"-1072\", \"Total Income\": \"-1171\", \"Other New Income Sources\": \"0\", \"Total of Other Expenses\": \"509\", \"Sequence Number (Internal Identifier)\": \"1163706\"}, {\"End Date of Reporting Period\": \"30-SEP-2023\", \"Start Date of Reporting Period\": \"01-JUL-2023\", \"Date of Result Reporting/Publication\": \"03-NOV-2023\", \"Type of Result\": \"U\", \"Exceptional Items During Reporting Period\": \"0\", \"Segment-Specific Notes/Comments\": \"-\", \"Employee/Staff-Related Expenses\": \"234\", \"Total Expenses Excluding Provisions/Contingencies\": null, \"Gross Non-Performing Assets (NPA)\": null, \"Interest Expenditure\": null, \"Consolidated Profit/Loss for the Period\": \"2165\", \"Net Sales Revenue\": \"3317\", \"Other Expenses\": \"157\", \"Raw Material Consumption\": \"0\", \"Diluted Earnings Per Share (EPS)\": null, \"Incremental Deferred Tax Asset/Liability\": \"0\", \"Purchases of Traded Goods\": \"0\", \"Face Value of Equity Shares\": \"10\", \"Income from Investments\": null, \"Deferred Tax\": \"155\", \"Share of Profit/Loss from Associates\": \"0\", \"Return on Assets/Retired Assets\": null, \"Profit/Loss from Ordinary Activities\": \"2165\", \"Notes Accompanying Accounts\": \"\", \"Percentage of Gross NPAs\": null, \"Exceptional Items\": null, \"New Interest Income/Expenditure\": \"97\", \"Profit/Loss from Discontinued Operations\": \"0\", \"Government Shareholding Percentage\": null, \"Basic Earnings Per Share (EPS) for Continuing/Discontinued Operations\": \"0.14\", \"Other Operating Expenses\": null, \"General Remarks/Notes\": null, \"Segment-Wise Remarks\": null, \"Diluted EPS for Continuing/Discontinued Operations\": \"0.14\", \"Notes/Descriptions About Financial Data\": \"-\", \"Profit/Loss Before Tax\": \"2827\", \"Revaluation of Reserves\": null, \"Interest Service Coverage Ratio\": null, \"Capital Adequacy Ratio\": null, \"Debt-Equity Ratio\": null, \"Current Tax Liabilities\": \"507\", \"Net Profit for the Period\": \"2165\", \"Total Income\": \"3317\", \"Other New Income Sources\": \"0\", \"Total of Other Expenses\": \"490\", \"Sequence Number (Internal Identifier)\": \"1157446\"}, {\"End Date of Reporting Period\": \"30-JUN-2023\", \"Start Date of Reporting Period\": \"01-APR-2023\", \"Date of Result Reporting/Publication\": \"04-AUG-2023\", \"Type of Result\": \"U\", \"Exceptional Items During Reporting Period\": \"0\", \"Segment-Specific Notes/Comments\": \"-\", \"Employee/Staff-Related Expenses\": \"101\", \"Total Expenses Excluding Provisions/Contingencies\": null, \"Gross Non-Performing Assets (NPA)\": null, \"Interest Expenditure\": null, \"Consolidated Profit/Loss for the Period\": \"1174\", \"Net Sales Revenue\": \"2283\", \"Other Expenses\": \"626\", \"Raw Material Consumption\": \"0\", \"Diluted Earnings Per Share (EPS)\": null, \"Incremental Deferred Tax Asset/Liability\": \"0\", \"Purchases of Traded Goods\": \"0\", \"Face Value of Equity Shares\": \"10\", \"Income from Investments\": null, \"Deferred Tax\": \"359\", \"Share of Profit/Loss from Associates\": \"0\", \"Return on Assets/Retired Assets\": null, \"Profit/Loss from Ordinary Activities\": \"1174\", \"Notes Accompanying Accounts\": \"\", \"Percentage of Gross NPAs\": null, \"Exceptional Items\": null, \"New Interest Income/Expenditure\": \"4\", \"Profit/Loss from Discontinued Operations\": \"0\", \"Government Shareholding Percentage\": null, \"Basic Earnings Per Share (EPS) for Continuing/Discontinued Operations\": \"0.07\", \"Other Operating Expenses\": null, \"General Remarks/Notes\": null, \"Segment-Wise Remarks\": null, \"Diluted EPS for Continuing/Discontinued Operations\": \"0.07\", \"Notes/Descriptions About Financial Data\": \"-\", \"Profit/Loss Before Tax\": \"1549\", \"Revaluation of Reserves\": null, \"Interest Service Coverage Ratio\": null, \"Capital Adequacy Ratio\": null, \"Debt-Equity Ratio\": null, \"Current Tax Liabilities\": \"16\", \"Net Profit for the Period\": \"1174\", \"Total Income\": \"2283\", \"Other New Income Sources\": \"0\", \"Total of Other Expenses\": \"734\", \"Sequence Number (Internal Identifier)\": \"1153063\"}]'}], 'role': 'tool', 'name': 'user_proxy'}, {'content': \"There was an error retrieving the current stock price for IDFC Bank. However, I was able to fetch the recent financial results of the bank. Here's a summary of the financials for recent periods:\\n\\n1. **Quarter Ending 30-JUN-2024**:\\n   - Total Income: ₹765 million\\n   - Net Profit: ₹33 million\\n   - Basic Earnings Per Share (EPS): ₹0\\n\\n2. **Year Ending 31-MAR-2024**:\\n   - Total Income: ₹573 million\\n   - Net Profit: ₹289 million\\n   - Basic Earnings Per Share (EPS): ₹0.02\\n\\n3. **Quarter Ending 31-DEC-2023**:\\n   - Total Income: -₹1,171 million\\n   - Net Profit: -₹1,072 million\\n   - Basic Earnings Per Share (EPS): -₹0.07\\n\\n4. **Quarter Ending 30-SEP-2023**:\\n   - Total Income: ₹3,317 million\\n   - Net Profit: ₹2,165 million\\n   - Basic Earnings Per Share (EPS): ₹0.14\\n\\n5. **Quarter Ending 30-JUN-2023**:\\n   - Total Income: ₹2,283 million\\n   - Net Profit: ₹1,174 million\\n   - Basic Earnings Per Share (EPS): ₹0.07\\n\\nPlease let me know if there's anything else you'd like to explore regarding IDFC Bank!\", 'name': 'news_agent', 'role': 'user'}, {'content': 'None', 'tool_calls': [{'id': 'call_HY5M18TkKz8BhcJbaBhs8q5G', 'function': {'arguments': '{\"stock_symbol\":\"IDFC\"}', 'name': 'get_market_research_report'}, 'type': 'function'}], 'name': 'market_research_agent', 'role': 'assistant'}], summary='None', cost={'usage_including_cached_inference': {'total_cost': 0}, 'usage_excluding_cached_inference': {'total_cost': 0}}, human_input=[])"
            ]
          },
          "metadata": {},
          "execution_count": 33
        }
      ]
    },
    {
      "cell_type": "code",
      "source": [],
      "metadata": {
        "id": "i9HqpU0n9UeK"
      },
      "execution_count": null,
      "outputs": []
    }
  ],
  "metadata": {
    "kernelspec": {
      "display_name": ".venv",
      "language": "python",
      "name": "python3"
    },
    "language_info": {
      "codemirror_mode": {
        "name": "ipython",
        "version": 3
      },
      "file_extension": ".py",
      "mimetype": "text/x-python",
      "name": "python",
      "nbconvert_exporter": "python",
      "pygments_lexer": "ipython3",
      "version": "3.10.5"
    },
    "colab": {
      "provenance": []
    }
  },
  "nbformat": 4,
  "nbformat_minor": 0
}